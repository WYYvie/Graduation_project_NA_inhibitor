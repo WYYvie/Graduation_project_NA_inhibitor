{
 "cells": [
  {
   "cell_type": "markdown",
   "metadata": {},
   "source": [
    "Import"
   ]
  },
  {
   "cell_type": "code",
   "execution_count": 14,
   "metadata": {},
   "outputs": [],
   "source": [
    "import os\n",
    "from rdkit import Chem\n",
    "from rdkit.Chem import rdFingerprintGenerator, Draw\n",
    "from rdkit.Chem.Scaffolds import MurckoScaffold\n",
    "from rdkit.ML.Cluster import Butina\n",
    "from rdkit.DataStructs import TanimotoSimilarity\n",
    "from collections import Counter"
   ]
  },
  {
   "cell_type": "markdown",
   "metadata": {},
   "source": [
    "Set the working directory"
   ]
  },
  {
   "cell_type": "code",
   "execution_count": 9,
   "metadata": {},
   "outputs": [
    {
     "name": "stdout",
     "output_type": "stream",
     "text": [
      "Working directory set to: /home/liuxuan/Drug_design/find_common\n"
     ]
    }
   ],
   "source": [
    "home_dir = os.path.expanduser('~')\n",
    "working_dir = os.path.join(home_dir, 'Drug_design', 'find_common')\n",
    "os.makedirs(working_dir, exist_ok=True)\n",
    "os.chdir(working_dir)\n",
    "print(f\"Working directory set to: {os.getcwd()}\")"
   ]
  },
  {
   "cell_type": "markdown",
   "metadata": {},
   "source": [
    "Define SMILES srting from the 2 documents"
   ]
  },
  {
   "cell_type": "code",
   "execution_count": null,
   "metadata": {},
   "outputs": [
    {
     "name": "stdout",
     "output_type": "stream",
     "text": [
      "Number of unique molecules: 29\n"
     ]
    }
   ],
   "source": [
    "# Define SMILES strings from the two documents\n",
    "smiles_list1 = [\n",
    "    \"COCCO[C@H]1CCCN(C1)[C@@H]1C=C(C[C@@H]([C@H]1NC(=O)C(C)C)n1cc(nn1)-c1cccc(OC)c1)C([O-])=O\",\n",
    "    \"COCCO[C@H]1CCCN(C1)[C@@H]1C=C(C[C@@H]([C@H]1NC(=O)C(C)C)n1cc(nn1)-c1ccccc1F)C([O-])=O\",\n",
    "    \"COCCO[C@H]1CCCN(C1)[C@@H]1C=C(C[C@@H]([C@H]1NC(=O)C(C)C)n1cc(nn1)-c1cccc(F)c1)C([O-])=O\",\n",
    "    \"COCCO[C@H]1CCCN(C1)[C@@H]1C=C(C[C@@H]([C@H]1NC(=O)C(C)C)n1cc(nn1)-c1ccccn1)C([O-])=O\",\n",
    "    \"COCCO[C@H]1CCCN(C1)[C@@H]1C=C(C[C@@H]([C@H]1NC(=O)C(C)C)n1cc(nn1)-c1ccc(cc1)C#N)C([O-])=O\",\n",
    "    \"CC(C)C(=O)N[C@@H]1[C@H](CC(=C[C@H]1N1CCC[C@@H](C1)OCCO)C([O-])=O)n1cc(nn1)-c1ccc(cc1)C#N\",\n",
    "    \"CC(C)C(=O)N[C@H]1[C@@H](C=C(C[C@@H]1n1cc(nn1)-c1ccc(cc1)C#N)C([O-])=O)N1CCC[C@H](O)C1\",\n",
    "    \"CC(C)C(=O)N[C@H]1[C@@H](C=C(C[C@@H]1n1cc(nn1)-c1ccc(F)cc1)C([O-])=O)N1CCC[C@H](O)C1\",\n",
    "    \"COCCO[C@H]1CCCN(C1)[C@@H]1C=C(C[C@@H]([C@H]1NC(=O)C(C)C)n1cc(nn1)-c1ccc(cc1)C(C)(C)C)C([O-])=O\",\n",
    "    \"COCCO[C@H]1CCCN(C1)[C@@H]1C=C(C[C@@H]([C@H]1NC(=O)C(C)C)n1cc(nn1)-c1ccc2OCOc2c1)C([O-])=O\",\n",
    "    \"COCCO[C@H]1CCCN(C1)[C@@H]1C=C(C[C@@H]([C@H]1NC(=O)C(C)C)n1cc(nn1)-c1cncnc1)C([O-])=O\"\n",
    "]\n",
    "\n",
    "smiles_list2 = [\n",
    "    \"COCCO[C@H]1CCCN(C1)[C@@H]1C=C(C[C@@H]([C@H]1NC(=O)C(C)C)n1cc(nn1)-c1ccc(OC)cc1)C(O)=O\",\n",
    "    \"CC(C)C(=O)N[C@@H]1[C@H](CC(=C[C@H]1N1CCC[C@@H](C1)OCCO)C(O)=O)n1cc(nn1)-c1ccc(F)cc1\",\n",
    "    \"COCCO[C@H]1CCCN(C1)[C@@H]1C=C(C[C@@H]([C@H]1NC(=O)C(C)C)n1cc(nn1)-c1ccc(cc1)C(F)(F)F)C(O)=O\",\n",
    "    \"COCCO[C@H]1CCCN(C1)[C@@H]1C=C(C[C@H](NS(=O)(=O)C2CC2)[C@H]1NC(=O)C(C)C)C(O)=O\",\n",
    "    \"COCCO[C@H]1CCCN(C1)[C@@H]1C=C(C[C@H](NS(=O)(=O)c2ccc(C)cc2)[C@H]1NC(=O)C(C)C)C(O)=O\",\n",
    "    \"CC(C)C(=O)N[C@@H]1[C@H](CC(=C[C@H]1N1CCC[C@H](O)C1)C(O)=O)n1cc(nn1)-c1ccccc1\",\n",
    "    \"CC(C)C(=O)N[C@@H]1[C@H](CC(=C[C@H]1N1CCC[C@@H](C1)OCCO)C(O)=O)n1cc(nn1)-c1ccccc1\",\n",
    "    \"COc1ccc(cc1)-c1cn(nn1)[C@H]1CC(=C[C@H]([C@@H]1NC(=O)C(C)C)N1CCC[C@@H](C1)OCCO)C(O)=O\",\n",
    "    \"COc1ccc(cc1)-c1cn(nn1)[C@H]1CC(=C[C@H]([C@@H]1NC(=O)C(C)C)N1CCC[C@H](O)C1)C(O)=O\",\n",
    "    \"COCCO[C@H]1CCCN(C1)[C@@H]1C=C(C[C@@H]([C@H]1NC(=O)C(C)C)n1cc(nn1)-c1ccccc1OC)C(O)=O\",\n",
    "    \"COCCO[C@H]1CCCN(C1)[C@@H]1C=C(C[C@@H]([C@H]1NC(=O)C(C)C)n1cc(nn1)-c1ccc(cc1)-c1ccccc1)C(O)=O\",\n",
    "    \"COCCO[C@H]1CCCN(C1)[C@@H]1C=C(C[C@@H]([C@H]1NC(=O)C(C)C)n1cc(nn1)-c1cccnc1)C(O)=O\",\n",
    "    \"COCCO[C@H]1CCCN(C1)[C@@H]1C=C(C[C@@H]([C@H]1NC(=O)C(C)C)n1cc(nn1)-c1ccncc1)C(O)=O\",\n",
    "    \"CCCCOCc1cn(nn1)[C@H]1CC(=C[C@H]([C@@H]1NC(=O)C(C)C)N1CCC[C@@H](C1)OCCOC)C(O)=O\",\n",
    "    \"COCCO[C@H]1CCCN(C1)[C@@H]1C=C(C[C@@H]([C@H]1NC(=O)C(C)C)n1cc(nn1)C1CCCCC1)C(O)=O\",\n",
    "    \"COCCO[C@H]1CCCN(C1)[C@@H]1C=C(C[C@@H]([C@H]1NC(=O)C(C)C)n1cc(nn1)-c1ccc(cc1)C(C)(C)O)C(O)=O\",\n",
    "    \"COCCO[C@H]1CCCN(C1)[C@@H]1C=C(C[C@@H]([C@H]1NC(=O)C(C)C)n1cc(nn1)-c1ccc(Cl)s1)C(O)=O\",\n",
    "    \"CC(C)C(=O)N[C@H]1[C@@H](OC(=C[C@@H]1n1cc(nn1)-c1ccccc1)C(O)=O)[C@H](O)[C@H](O)CO\"\n",
    "]\n",
    "\n",
    "# Combine the SMILES lists\n",
    "all_smiles = smiles_list1 + smiles_list2\n",
    "\n",
    "# Remove duplicates using canonical SMILES\n",
    "unique_mols = {}\n",
    "for smiles in all_smiles:\n",
    "    mol = Chem.MolFromSmiles(smiles)\n",
    "    if mol:  # Check if the SMILES is valid\n",
    "        canon_smiles = Chem.MolToSmiles(mol, canonical=True)\n",
    "        if canon_smiles not in unique_mols:\n",
    "            unique_mols[canon_smiles] = mol\n",
    "\n",
    "unique_mols_list = list(unique_mols.values())\n",
    "print(f\"Number of unique molecules: {len(unique_mols_list)}\")\n"
   ]
  },
  {
   "cell_type": "markdown",
   "metadata": {},
   "source": [
    "Clustering"
   ]
  },
  {
   "cell_type": "code",
   "execution_count": 10,
   "metadata": {},
   "outputs": [
    {
     "name": "stdout",
     "output_type": "stream",
     "text": [
      "Number of clusters: 5\n"
     ]
    }
   ],
   "source": [
    "fpgen = rdFingerprintGenerator.GetMorganGenerator(radius=2, fpSize=2048)\n",
    "fps = [fpgen.GetFingerprint(mol) for mol in unique_mols_list]\n",
    "\n",
    "# Define Tanimoto distance function\n",
    "def tanimoto_dist(fp1, fp2):\n",
    "    return 1 - TanimotoSimilarity(fp1, fp2)\n",
    "\n",
    "# Perform Butina clustering (cutoff=0.3 means similarity >= 0.7)\n",
    "cutoff = 0.3\n",
    "clusters = Butina.ClusterData(\n",
    "    data=fps,\n",
    "    nPts=len(fps),\n",
    "    distThresh=cutoff,\n",
    "    isDistData=False,\n",
    "    distFunc=tanimoto_dist\n",
    ")\n",
    "print(f\"Number of clusters: {len(clusters)}\")"
   ]
  },
  {
   "cell_type": "markdown",
   "metadata": {},
   "source": [
    "Find common"
   ]
  },
  {
   "cell_type": "code",
   "execution_count": 15,
   "metadata": {},
   "outputs": [
    {
     "name": "stdout",
     "output_type": "stream",
     "text": [
      "Cluster 1 contains 22 molecules\n",
      "Cluster 2 contains 2 molecules\n",
      "Cluster 3 contains 2 molecules\n",
      "Cluster 4 contains 2 molecules\n",
      "Cluster 5 contains 1 molecules\n",
      "\n",
      "Common structures for each cluster:\n",
      "Cluster 1 common structure SMILES: C1=C[C@@H](N2CCCCC2)C[C@@H](n2cc(-c3ccccc3)nn2)C1\n",
      "Saved visualization for Cluster 1 to cluster_1_common_structure.png\n",
      "Cluster 2 common structure SMILES: C1=C[C@@H](N2CCCCC2)C[C@@H](n2cc(-c3ccccc3)nn2)C1\n",
      "Saved visualization for Cluster 2 to cluster_2_common_structure.png\n",
      "Cluster 3 common structure SMILES: C1=C[C@@H](N2CCCCC2)C[C@@H](n2cc(-c3ccccc3)nn2)C1\n",
      "Saved visualization for Cluster 3 to cluster_3_common_structure.png\n",
      "Cluster 4 common structure SMILES: O=S(=O)(N[C@H]1CC=C[C@@H](N2CCCCC2)C1)c1ccccc1\n",
      "Saved visualization for Cluster 4 to cluster_4_common_structure.png\n",
      "Cluster 5 common structure SMILES: CC(C)C(=O)N[C@H]1[C@H]([C@H](O)[C@H](O)CO)OC(C(=O)O)=C[C@@H]1n1cc(-c2ccccc2)nn1\n",
      "Saved visualization for Cluster 5 to cluster_5_common_structure.png\n",
      "Number of common structure SMILES output: 5\n"
     ]
    }
   ],
   "source": [
    "# Find common structure for each cluster\n",
    "common_structures = []\n",
    "for cluster_idx, cluster in enumerate(clusters):\n",
    "    cluster_mols = [unique_mols_list[i] for i in cluster]\n",
    "    print(f\"Cluster {cluster_idx + 1} contains {len(cluster_mols)} molecules\")\n",
    "\n",
    "    if len(cluster_mols) == 1:\n",
    "        # Singleton cluster: use the molecule itself as the common structure\n",
    "        common_structure = cluster_mols[0]\n",
    "    else:\n",
    "        # Multiple molecules: find the most common Murcko scaffold\n",
    "        scaffolds = [MurckoScaffold.GetScaffoldForMol(mol) for mol in cluster_mols]\n",
    "        scaffold_smiles = [Chem.MolToSmiles(scaf) for scaf in scaffolds if scaf]\n",
    "        \n",
    "        if scaffold_smiles:\n",
    "            # Count scaffold occurrences and pick the most common one\n",
    "            scaffold_counts = Counter(scaffold_smiles)\n",
    "            most_common_scaffold_smiles = max(scaffold_counts.items(), key=lambda x: x[1])[0]\n",
    "            common_structure = Chem.MolFromSmiles(most_common_scaffold_smiles)\n",
    "        else:\n",
    "            # Fallback: use the first molecule in the cluster if no scaffolds are found\n",
    "            common_structure = cluster_mols[0]\n",
    "\n",
    "    common_structures.append(common_structure)\n",
    "\n",
    "# Output and visualize the common structures\n",
    "print(\"\\nCommon structures for each cluster:\")\n",
    "for i, common_mol in enumerate(common_structures):\n",
    "    common_smiles = Chem.MolToSmiles(common_mol)\n",
    "    print(f\"Cluster {i + 1} common structure SMILES: {common_smiles}\")\n",
    "    \n",
    "    # Visualize the common structure and save as PNG\n",
    "    output_file = f\"cluster_{i + 1}_common_structure.png\"\n",
    "    try:\n",
    "        Draw.MolToFile(common_mol, output_file, size=(300, 300))\n",
    "        print(f\"Saved visualization for Cluster {i + 1} to {output_file}\")\n",
    "    except Exception as e:\n",
    "        print(f\"Failed to save visualization for Cluster {i + 1}: {e}\")\n",
    "\n",
    "# Verify the number of common structures matches the number of clusters\n",
    "assert len(common_structures) == len(clusters), \"Number of common structures does not match number of clusters\"\n",
    "print(f\"Number of common structure SMILES output: {len(common_structures)}\")"
   ]
  }
 ],
 "metadata": {
  "kernelspec": {
   "display_name": "chemprop",
   "language": "python",
   "name": "python3"
  },
  "language_info": {
   "codemirror_mode": {
    "name": "ipython",
    "version": 3
   },
   "file_extension": ".py",
   "mimetype": "text/x-python",
   "name": "python",
   "nbconvert_exporter": "python",
   "pygments_lexer": "ipython3",
   "version": "3.11.9"
  }
 },
 "nbformat": 4,
 "nbformat_minor": 2
}
