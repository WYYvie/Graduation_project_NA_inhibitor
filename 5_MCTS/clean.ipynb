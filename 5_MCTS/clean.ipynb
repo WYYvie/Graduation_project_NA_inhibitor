{
 "cells": [
  {
   "cell_type": "code",
   "execution_count": 17,
   "id": "2b4b8384-5f42-4686-9457-5a801493c386",
   "metadata": {},
   "outputs": [],
   "source": [
    "\n",
    "from rdkit import Chem"
   ]
  },
  {
   "cell_type": "code",
   "execution_count": 59,
   "id": "d579bed7-7a22-4b36-9abd-3644f58ebf42",
   "metadata": {},
   "outputs": [
    {
     "name": "stdout",
     "output_type": "stream",
     "text": [
      "NCc1cccc(O)c1\n"
     ]
    }
   ],
   "source": [
    "\n",
    "\n",
    "# 带原子映射号的SMILES\n",
    "smiles_with_map = 'c1cc([OH:1])cc([CH2:1][NH2:1])c1'\n",
    "\n",
    "# 将其读入mol对象（RDKit会自动识别并保留映射标签）\n",
    "mol = Chem.MolFromSmiles(smiles_with_map)\n",
    "\n",
    "# 清除映射标签\n",
    "for atom in mol.GetAtoms():\n",
    "    atom.SetAtomMapNum(0)\n",
    "\n",
    "# 转回标准SMILES\n",
    "clean_smiles = Chem.MolToSmiles(mol)\n",
    "print(clean_smiles)\n"
   ]
  },
  {
   "cell_type": "code",
   "execution_count": null,
   "id": "cc55f44e-ecfd-434f-8f1b-debaf55ca9dc",
   "metadata": {},
   "outputs": [],
   "source": []
  }
 ],
 "metadata": {
  "kernelspec": {
   "display_name": "Python (chemprop_env)",
   "language": "python",
   "name": "chemprop"
  },
  "language_info": {
   "codemirror_mode": {
    "name": "ipython",
    "version": 3
   },
   "file_extension": ".py",
   "mimetype": "text/x-python",
   "name": "python",
   "nbconvert_exporter": "python",
   "pygments_lexer": "ipython3",
   "version": "3.11.11"
  }
 },
 "nbformat": 4,
 "nbformat_minor": 5
}
